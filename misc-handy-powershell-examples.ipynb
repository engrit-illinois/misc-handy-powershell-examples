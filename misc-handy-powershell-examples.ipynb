{
 "cells": [
  {
   "cell_type": "markdown",
   "metadata": {},
   "source": [
    "Documentation home: https://github.com/engrit-illinois/misc-handy-powershell-examples\n",
    "By mseng3\n",
    "Converted to a Jupyter Notebook by han44\n",
    "\n",
    "To use this, you'll need a Jupyter Notebook editor. An easy one to get up and working is VSCode:\n",
    "1. Open Powershell as admin\n",
    "2. Run `winget install Microsoft.DotNet.SDK.7`\n",
    "3. Download/Install VSCode e.g. `winget install Microsoft.VisualStudioCode`\n",
    "4. Install the Polyglot Notebooks extension in Visual Studio Code\n",
    "\n",
    "Additionally, some of the examples below only really make sense in an interactive Powershell 7 session, so make sure to install Powershell 7!\n",
    "1. Open Powershell as admin\n",
    "2. Run `winget install Microsoft.Powershell`\n",
    "3. Open the new Powershell 7 terminal! Or even better, use the `Terminal` app\n",
    "\n",
    "Additionally, some examples that interact with MECM can *only* be done in a native Powershell session, so don't run those here!"
   ]
  },
  {
   "cell_type": "markdown",
   "metadata": {},
   "source": [
    "Do something remotely on multiple computers, in parallel...\n",
    "https://devblogs.microsoft.com/powershell/powershell-foreach-object-parallel-feature/\n",
    "Note the parallel functionality of ForEach-Object requires PowerShell 7\n",
    "To do them NOT in parallel, just remove the `-ThrottleLimit` and `-Parallel` parameters from `ForEach-Object`"
   ]
  },
  {
   "cell_type": "code",
   "execution_count": null,
   "metadata": {
    "dotnet_interactive": {
     "language": "pwsh"
    },
    "polyglot_notebook": {
     "kernelName": "pwsh"
    }
   },
   "outputs": [],
   "source": [
    "# ...based on specific given computer names\n",
    "$compNames = \"MEL-1001-10\",\"KH-105-03\",\"KH-107-03\",\"EH-406B8-28\" # etc., etc.\n",
    "$compNames"
   ]
  },
  {
   "cell_type": "code",
   "execution_count": null,
   "metadata": {
    "dotnet_interactive": {
     "language": "pwsh"
    },
    "polyglot_notebook": {
     "kernelName": "pwsh"
    }
   },
   "outputs": [],
   "source": [
    "# ...based on an AD name query\n",
    "$comps = Get-ADComputer -Filter { Name -like \"gelib-4c-*\" } # to get all like-named computers\n",
    "$comps"
   ]
  },
  {
   "cell_type": "code",
   "execution_count": null,
   "metadata": {
    "dotnet_interactive": {
     "language": "pwsh"
    },
    "polyglot_notebook": {
     "kernelName": "pwsh"
    }
   },
   "outputs": [],
   "source": [
    "# ...based on one or more AD name queries\n",
    "$queries = \"gelib-4e-*\",\"dcl-l426-*\",\"mel-1001-01\"\n",
    "$searchbase=\"OU=Engineering,OU=Urbana,DC=ad,DC=uillinois,DC=edu\"\n",
    "$comps = @()\n",
    "foreach($query in @($queries)) {\n",
    "\t$results = Get-ADComputer -SearchBase $searchbase -Filter \"name -like `\"$query`\"\" -Properties *\n",
    "\t$comps += @($results)\n",
    "}\n",
    "# Return just the name, for the sake of this example\n",
    "$comps.Name"
   ]
  },
  {
   "cell_type": "code",
   "execution_count": null,
   "metadata": {
    "dotnet_interactive": {
     "language": "pwsh"
    },
    "polyglot_notebook": {
     "kernelName": "pwsh"
    }
   },
   "outputs": [],
   "source": [
    "# ...based on direct membership rules of an MECM collection\n",
    "Prep-MECM\n",
    "$compNames = Get-CMCollectionDirectMembershipRule -CollectionName \"UIUC-ENGR-IS mseng3 Test VMs (direct membership)\" | Select -ExpandProperty RuleName | Sort"
   ]
  },
  {
   "cell_type": "code",
   "execution_count": null,
   "metadata": {
    "dotnet_interactive": {
     "language": "pwsh"
    },
    "polyglot_notebook": {
     "kernelName": "pwsh"
    }
   },
   "outputs": [],
   "source": [
    "# ...based on sequentially-named computers (i.e. a lab)\n",
    "$lab = \"ECEB-3024\"\n",
    "$nums = @(4,5,7,11,14)\n",
    "$comps = @()\n",
    "$nums | ForEach-Object {\n",
    "    $num = ([string]$_).PadLeft(2,\"0\")\n",
    "    $comps += \"$lab-$($num)\"\n",
    "}\n",
    "$comps"
   ]
  },
  {
   "cell_type": "code",
   "execution_count": null,
   "metadata": {
    "dotnet_interactive": {
     "language": "pwsh"
    },
    "polyglot_notebook": {
     "kernelName": "pwsh"
    }
   },
   "outputs": [],
   "source": [
    "# Doing the thing\n",
    "# if the members of $comps are AD or otherwise PowerShell object, instead of just strings\n",
    "if($comps.ObjectClass -eq 'computer'){\n",
    "    $compNames = $comps | Select -ExpandProperty \"Name\" \n",
    "}\n",
    "$compNames | ForEach-Object -ThrottleLimit 15 -Parallel {\n",
    "    Write-Host \"Processing $_...\"\n",
    "    if(Test-Connection $_ -Quiet -Count 1){                 # Adding a ping test to avoid timeout\n",
    "        Invoke-Command -ComputerName $_ -ScriptBlock {\n",
    "            # Do stuff here\n",
    "        }\n",
    "    }\n",
    "}"
   ]
  },
  {
   "cell_type": "markdown",
   "metadata": {},
   "source": [
    "Start a new, elevated PowerShell process in the current directory:\n",
    "Useful because Windows does not allow Powershell to  elevate an existing session\n",
    "https://superuser.com/a/1256947/137753"
   ]
  },
  {
   "cell_type": "code",
   "execution_count": 10,
   "metadata": {
    "dotnet_interactive": {
     "language": "pwsh"
    },
    "polyglot_notebook": {
     "kernelName": "pwsh"
    }
   },
   "outputs": [],
   "source": [
    "# Powershell 5\n",
    "Start-Process powershell -Verb runas -ArgumentList \"-NoExit -c cd '$pwd'\""
   ]
  },
  {
   "cell_type": "code",
   "execution_count": null,
   "metadata": {
    "dotnet_interactive": {
     "language": "pwsh"
    },
    "polyglot_notebook": {
     "kernelName": "pwsh"
    }
   },
   "outputs": [],
   "source": [
    "# Powershell 7\n",
    "Start-Process pwsh -Verb runas -ArgumentList \"-NoExit -c cd '$pwd'\""
   ]
  }
 ],
 "metadata": {
  "kernelspec": {
   "display_name": ".NET (C#)",
   "language": "C#",
   "name": ".net-csharp"
  },
  "language_info": {
   "name": "polyglot-notebook"
  },
  "polyglot_notebook": {
   "kernelInfo": {
    "defaultKernelName": "csharp",
    "items": [
     {
      "aliases": [],
      "languageName": "csharp",
      "name": "csharp"
     }
    ]
   }
  }
 },
 "nbformat": 4,
 "nbformat_minor": 2
}
