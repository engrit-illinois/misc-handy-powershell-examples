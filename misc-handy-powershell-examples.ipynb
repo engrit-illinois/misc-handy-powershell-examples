{
 "cells": [
  {
   "cell_type": "markdown",
   "metadata": {},
   "source": [
    "Documentation home: https://github.com/engrit-illinois/misc-handy-powershell-examples\n",
    "By mseng3\n",
    "Converted to a Jupyter Notebook by han44\n",
    "\n",
    "To use this, you'll need a Jupyter Notebook editor. An easy one to get up and working is VSCode:\n",
    "1. Open Powershell as admin\n",
    "2. Run `winget install Microsoft.DotNet.SDK.8`\n",
    "3. Download/Install VSCode e.g. `winget install Microsoft.VisualStudioCode`\n",
    "4. Install the Polyglot Notebooks extension in Visual Studio Code\n",
    "\n",
    "Additionally, some of the examples below only really make sense in an interactive Powershell 7 session, so make sure to install Powershell 7!\n",
    "1. Open Powershell as admin\n",
    "2. Run `winget install Microsoft.Powershell`\n",
    "3. Open the new Powershell 7 terminal! Or even better, use the `Terminal` app\n",
    "\n",
    "Additionally, some examples that interact with MECM can *only* be done in a native Powershell session, so don't run those here!\n",
    "\n",
    "------------"
   ]
  },
  {
   "cell_type": "markdown",
   "metadata": {},
   "source": [
    "Do something remotely on multiple computers, in parallel...\n",
    "https://devblogs.microsoft.com/powershell/powershell-foreach-object-parallel-feature/\n",
    "Note the parallel functionality of ForEach-Object requires PowerShell 7\n",
    "To do them NOT in parallel, just remove the `-ThrottleLimit` and `-Parallel` parameters from `ForEach-Object`"
   ]
  },
  {
   "cell_type": "code",
   "execution_count": null,
   "metadata": {
    "dotnet_interactive": {
     "language": "pwsh"
    },
    "polyglot_notebook": {
     "kernelName": "pwsh"
    }
   },
   "outputs": [],
   "source": [
    "# ...based on specific given computer names\n",
    "$comps = \"MEL-1001-10\",\"KH-105-03\",\"KH-107-03\",\"EH-406B8-28\" # etc., etc.\n",
    "$comps"
   ]
  },
  {
   "cell_type": "code",
   "execution_count": null,
   "metadata": {
    "dotnet_interactive": {
     "language": "pwsh"
    },
    "polyglot_notebook": {
     "kernelName": "pwsh"
    }
   },
   "outputs": [],
   "source": [
    "# ...based on an AD name query\n",
    "$comps = Get-ADComputer -Filter { Name -like \"gelib-4c-*\" } | Select -First 10 # to get the first 10 like-named computers\n",
    "$comps"
   ]
  },
  {
   "cell_type": "code",
   "execution_count": null,
   "metadata": {
    "dotnet_interactive": {
     "language": "pwsh"
    },
    "polyglot_notebook": {
     "kernelName": "pwsh"
    }
   },
   "outputs": [],
   "source": [
    "# ...based on one or more AD name queries\n",
    "$queries = \"gelib-4e-*\",\"dcl-l426-*\",\"mel-1001-01\"\n",
    "$searchbase=\"OU=Engineering,OU=Urbana,DC=ad,DC=uillinois,DC=edu\"\n",
    "$comps = @()\n",
    "foreach($query in @($queries)) {\n",
    "\t$results = Get-ADComputer -SearchBase $searchbase -Filter \"name -like `\"$query`\"\" -Properties *\n",
    "\t$comps += @($results)\n",
    "}\n",
    "# Return just the name, for the sake of this example\n",
    "$comps.Name"
   ]
  },
  {
   "cell_type": "code",
   "execution_count": null,
   "metadata": {
    "dotnet_interactive": {
     "language": "pwsh"
    },
    "polyglot_notebook": {
     "kernelName": "pwsh"
    }
   },
   "outputs": [],
   "source": [
    "# ...based on direct membership rules of an MECM collection\n",
    "Prep-MECM\n",
    "$comps = Get-CMCollectionDirectMembershipRule -CollectionName \"UIUC-ENGR-IS mseng3 Test VMs (direct membership)\" | Select -ExpandProperty RuleName | Sort"
   ]
  },
  {
   "cell_type": "code",
   "execution_count": null,
   "metadata": {
    "dotnet_interactive": {
     "language": "pwsh"
    },
    "polyglot_notebook": {
     "kernelName": "pwsh"
    }
   },
   "outputs": [],
   "source": [
    "# ...based on sequentially-named computers (i.e. a lab)\n",
    "$lab = \"ECEB-3024\"\n",
    "$nums = @(4,5,7,11,14)\n",
    "$comps = @()\n",
    "$nums | ForEach-Object {\n",
    "    $num = ([string]$_).PadLeft(2,\"0\")\n",
    "    $comps += \"$lab-$($num)\"\n",
    "}\n",
    "$comps"
   ]
  },
  {
   "cell_type": "code",
   "execution_count": null,
   "metadata": {
    "dotnet_interactive": {
     "language": "pwsh"
    },
    "polyglot_notebook": {
     "kernelName": "pwsh"
    }
   },
   "outputs": [],
   "source": [
    "# Doing the thing\n",
    "# if the members of $comps are AD or otherwise PowerShell object, instead of just strings\n",
    "if($comps.ObjectClass -eq 'computer'){\n",
    "    $compNames = $comps | Select -ExpandProperty \"Name\" \n",
    "}\n",
    "$compNames | ForEach-Object -ThrottleLimit 15 -Parallel {\n",
    "    Write-Host \"Processing $_...\"\n",
    "    if(Test-Connection $_ -Quiet -Count 1){                 # Adding a ping test to avoid timeout\n",
    "        Invoke-Command -ComputerName $_ -ScriptBlock {\n",
    "            # Do stuff here\n",
    "        }\n",
    "    }\n",
    "}"
   ]
  },
  {
   "cell_type": "markdown",
   "metadata": {},
   "source": [
    "--------------\n",
    "\n",
    "Start a new, elevated PowerShell process in the current directory:\n",
    "Useful because Windows does not allow Powershell to  elevate an existing session\n",
    "https://superuser.com/a/1256947/137753"
   ]
  },
  {
   "cell_type": "code",
   "execution_count": null,
   "metadata": {
    "dotnet_interactive": {
     "language": "pwsh"
    },
    "polyglot_notebook": {
     "kernelName": "pwsh"
    }
   },
   "outputs": [],
   "source": [
    "# Powershell 5\n",
    "Start-Process powershell -Verb runas -ArgumentList \"-NoExit -c cd '$pwd'\""
   ]
  },
  {
   "cell_type": "code",
   "execution_count": null,
   "metadata": {
    "dotnet_interactive": {
     "language": "pwsh"
    },
    "polyglot_notebook": {
     "kernelName": "pwsh"
    }
   },
   "outputs": [],
   "source": [
    "# Powershell 7\n",
    "Start-Process pwsh -Verb runas -ArgumentList \"-NoExit -c cd '$pwd'\""
   ]
  },
  {
   "cell_type": "markdown",
   "metadata": {},
   "source": [
    "------------------\n",
    "\n",
    "Create a new shortcut"
   ]
  },
  {
   "cell_type": "code",
   "execution_count": null,
   "metadata": {
    "dotnet_interactive": {
     "language": "pwsh"
    },
    "polyglot_notebook": {
     "kernelName": "pwsh"
    }
   },
   "outputs": [],
   "source": [
    "$pathFolder = \"$env:userprofile\\Desktop\"\n",
    "$pathLnk = \"$pathFolder\\calc.lnk\"\n",
    "$pathTarget = \"C:\\Windows\\System32\\calc.exe\"\n",
    "\n",
    "$shell = New-Object -ComObject WScript.Shell\n",
    "$shortcut = $shell.CreateShortcut($pathLnk)\n",
    "$shortcut.TargetPath = $pathTarget\n",
    "$shortcut.Save()\n",
    "\n",
    "# Open that folder\n",
    "Invoke-Item -Path $pathFolder\n",
    "\n",
    "# Open the calculator via the shortcut\n",
    "Invoke-Item -Path $pathLnk"
   ]
  },
  {
   "cell_type": "markdown",
   "metadata": {},
   "source": [
    "Make sure to clean these up when you're done!"
   ]
  },
  {
   "cell_type": "markdown",
   "metadata": {},
   "source": [
    "---------------------\n",
    "\n",
    "Modify the target field of all existing shortcuts in the current directory"
   ]
  },
  {
   "cell_type": "markdown",
   "metadata": {},
   "source": [
    "Intentionally keeping this as markdown since it can be destructive.\n",
    "\n",
    "```powershell\n",
    "$lnks = dir \"*.lnk\"\n",
    "$lnks | ForEach-Object {\n",
    "    # Create a temporary shortcut object to work with\n",
    "    $lnk = (New-Object -ComObject 'WScript.Shell').CreateShortCut($_.FullName)\n",
    "    # Modifies the base target file path\n",
    "    $lnk.TargetPath = $lnk.TargetPath.Replace(\"appv1.exe\",\"appv2.exe\")\n",
    "    # Modifies the arguments given to the target file\n",
    "    $lnk.Arguments = $lnk.Arguments.Replace(\"-Param1 `\"Hello World!`\"\",\"Param2 `\"Hello.`\"\")\n",
    "    # Modifies the \"Start in\" path\n",
    "    $lnk.WorkingDirectory = $lnk.WorkingDirectory.Replace(\"c:\\program files\\\",\"d:\\test\\\")\n",
    "    # Apply the changes to the actual shortcut file\n",
    "    $lnk.Save()\n",
    "}\n",
    "```"
   ]
  },
  {
   "cell_type": "markdown",
   "metadata": {},
   "source": [
    "--------------------\n",
    "\n",
    "Create large dummy files\n",
    "\n",
    "https://www.windows-commandline.com/how-to-create-large-dummy-file/"
   ]
  },
  {
   "cell_type": "code",
   "execution_count": null,
   "metadata": {
    "dotnet_interactive": {
     "language": "pwsh"
    },
    "polyglot_notebook": {
     "kernelName": "pwsh"
    }
   },
   "outputs": [],
   "source": [
    "fsutil file createnew $env:userprofile\\bigtestfile.txt 1000 # 1KB\n",
    "\n",
    "# Open that folder\n",
    "Invoke-Item -Path \"$env:userprofile\""
   ]
  },
  {
   "cell_type": "markdown",
   "metadata": {},
   "source": [
    "-------------------------\n",
    "\n",
    "Find 10 largest files\n",
    "\n",
    "https://social.technet.microsoft.com/Forums/ie/en-US/838ed753-2bcf-49b8-9321-775c5ef12f13/finding-largest-files?forum=winserverpowershell"
   ]
  },
  {
   "cell_type": "code",
   "execution_count": null,
   "metadata": {
    "dotnet_interactive": {
     "language": "pwsh"
    },
    "polyglot_notebook": {
     "kernelName": "pwsh"
    }
   },
   "outputs": [],
   "source": [
    "Get-ChildItem \"$env:USERPROFILE\" -Recurse -File | \n",
    "    Sort \"length\" -Descending | \n",
    "        Select @{Name=\"Size\";Expression={\"$([math]::Round(($_.length / 1MB),2))MB\"}},\"FullName\",\"CreationTime\",\"LastWriteTime\",\"LastAccessTime\" -First 10"
   ]
  },
  {
   "cell_type": "markdown",
   "metadata": {},
   "source": [
    "The same thing but formatted to a table output"
   ]
  },
  {
   "cell_type": "code",
   "execution_count": null,
   "metadata": {
    "dotnet_interactive": {
     "language": "pwsh"
    },
    "polyglot_notebook": {
     "kernelName": "pwsh"
    }
   },
   "outputs": [],
   "source": [
    "Get-ChildItem \"$env:USERPROFILE\" -Recurse -File | \n",
    "    Sort \"length\" -Descending | \n",
    "        Select @{Name=\"Size\";Expression={\"$([math]::Round(($_.length / 1MB),2))MB\"}},\"FullName\",\"CreationTime\",\"LastWriteTime\",\"LastAccessTime\" -First 10 |\n",
    "            Format-Table"
   ]
  },
  {
   "cell_type": "markdown",
   "metadata": {},
   "source": [
    "---------------------------------\n",
    "\n",
    "Find the largest user profiles greater than 1GB across multiple computers"
   ]
  },
  {
   "cell_type": "code",
   "execution_count": null,
   "metadata": {
    "dotnet_interactive": {
     "language": "pwsh"
    },
    "polyglot_notebook": {
     "kernelName": "pwsh"
    }
   },
   "outputs": [],
   "source": [
    "$lab = 'eceb-5080'\n",
    "$comps = Get-ADComputer -Filter \"name -like '$lab*'\" -SearchBase \"OU=Instructional,OU=Desktops,OU=Engineering,OU=Urbana,DC=ad,DC=uillinois,DC=edu\"\n",
    "$data = $comps | ForEach-Object {\n",
    "\t$comp = $_.Name\n",
    "    if(Test-Connection -TargetName $comp -Quiet -Count 1){\n",
    "        Invoke-Command -ComputerName $comp -ScriptBlock {\n",
    "            Get-Item -Path \"c:\\users\\*\" | ForEach-Object {\n",
    "                Get-ChildItem $_ -Recurse -File | Measure-Object -Property length -Sum -Maximum | Add-Member -NotePropertyName \"User\" -NotePropertyValue $_.Name -PassThru\n",
    "            }\n",
    "        }\n",
    "    }\n",
    "} | Select PSComputerName,User,Count,@{N=\"Max (GB)\";E={[int]($_.Maximum/1GB)}},@{N=\"Sum (GB)\";E={[int]($_.Sum/1GB)}}\n",
    "$data = $data | Where { $_.\"Sum (GB)\" -ge 1 }\n",
    "$data | Sort PSComputerName,@{Expression=\"Sum (GB)\";Descending=$true} | Format-Table"
   ]
  },
  {
   "cell_type": "markdown",
   "metadata": {},
   "source": [
    "The same thing, parallelized!"
   ]
  },
  {
   "cell_type": "code",
   "execution_count": null,
   "metadata": {
    "dotnet_interactive": {
     "language": "pwsh"
    },
    "polyglot_notebook": {
     "kernelName": "pwsh"
    }
   },
   "outputs": [],
   "source": [
    "$lab = 'eceb-5080'\n",
    "$comps = Get-ADComputer -Filter \"name -like '$lab*'\" -SearchBase \"OU=Instructional,OU=Desktops,OU=Engineering,OU=Urbana,DC=ad,DC=uillinois,DC=edu\"\n",
    "$data = $comps | ForEach-Object -ThrottleLimit 20 -Parallel {\n",
    "\t$comp = $_.Name\n",
    "    if(Test-Connection -TargetName $comp -Quiet -Count 1){\n",
    "        Invoke-Command -ComputerName $comp -ScriptBlock {\n",
    "            Get-Item -Path \"c:\\users\\*\" | ForEach-Object {\n",
    "                Get-ChildItem $_ -Recurse -File | Measure-Object -Property length -Sum -Maximum | Add-Member -NotePropertyName \"User\" -NotePropertyValue $_.Name -PassThru\n",
    "            }\n",
    "        }\n",
    "    }\n",
    "} | Select PSComputerName,User,Count,@{N=\"Max (GB)\";E={[int]($_.Maximum/1GB)}},@{N=\"Sum (GB)\";E={[int]($_.Sum/1GB)}}\n",
    "$data = $data | Where { $_.\"Sum (GB)\" -ge 1 }\n",
    "$data | Sort PSComputerName,@{Expression=\"Sum (GB)\";Descending=$true} | Format-Table"
   ]
  },
  {
   "cell_type": "markdown",
   "metadata": {},
   "source": [
    "---\n",
    "\n",
    "Test whether a specific folder (or file, registry entry, etc.) exists on multiple computers. In this example, we're checking for `C:\\macrosenabled`"
   ]
  },
  {
   "cell_type": "code",
   "execution_count": null,
   "metadata": {
    "dotnet_interactive": {
     "language": "pwsh"
    },
    "polyglot_notebook": {
     "kernelName": "pwsh"
    }
   },
   "outputs": [],
   "source": [
    "Get-ADComputer -Filter \"Name -like 'eh-406b*'\" | Select -ExpandProperty Name | ForEach-Object -Parallel {\n",
    "    [PSCustomObject]@{\n",
    "        \"Name\" = $_\n",
    "        \"Exists\" = Invoke-Command -ComputerName $_ -ScriptBlock { Test-Path \"c:\\macrosenabled\" } -ErrorAction SilentlyContinue\n",
    "    }\n",
    "}"
   ]
  },
  {
   "cell_type": "markdown",
   "metadata": {},
   "source": [
    "---\n",
    "\n",
    "Get the (human-readable) total size of all files in a given directory"
   ]
  },
  {
   "cell_type": "code",
   "execution_count": null,
   "metadata": {
    "dotnet_interactive": {
     "language": "pwsh"
    },
    "polyglot_notebook": {
     "kernelName": "pwsh"
    }
   },
   "outputs": [],
   "source": [
    "\"{0:N} MB\" -f ([math]::Round(((Get-ChildItem \"\\\\eh-406b1-01\\c$\\engrit\" -Recurse -Force | Measure-Object -Property Length -Sum | Select -ExpandProperty Sum) / 1MB), 2))"
   ]
  }
 ],
 "metadata": {
  "kernelspec": {
   "display_name": ".NET (C#)",
   "language": "C#",
   "name": ".net-csharp"
  },
  "language_info": {
   "name": "polyglot-notebook"
  },
  "polyglot_notebook": {
   "kernelInfo": {
    "defaultKernelName": "csharp",
    "items": [
     {
      "aliases": [],
      "languageName": "csharp",
      "name": "csharp"
     }
    ]
   }
  }
 },
 "nbformat": 4,
 "nbformat_minor": 2
}
